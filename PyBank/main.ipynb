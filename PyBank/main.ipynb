{
 "cells": [
  {
   "cell_type": "code",
   "execution_count": 57,
   "id": "99c4134c-56d7-42c8-883a-dd66520ebecf",
   "metadata": {},
   "outputs": [
    {
     "name": "stdout",
     "output_type": "stream",
     "text": [
      "     Financial Analysis\n",
      "---------------------------------\n",
      "     Total Months:  86\n",
      "     Total:       $ 38382578\n",
      "Average  Change:  $ -2315.12\n",
      "Greatest Increase in Profits: Feb-2012 $  1926159\n",
      "Greatest Decrease in Profits: Sep-2013 $ -2196167\n"
     ]
    }
   ],
   "source": [
    "##This program runs a simple analysis on a business' P&L from a csv file extract\n",
    "\n",
    "from pathlib import Path\n",
    "import csv\n",
    "csvpath = Path(\"./budget_data.csv\")\n",
    "\n",
    "# initialise variables\n",
    "total_months = 0   \n",
    "total_revenue = 0    \n",
    "revenue_change = 0  \n",
    "change_count = 0 \n",
    "averages_count = 0\n",
    "minimum_key = \"\"\n",
    "minimum_value = 0\n",
    "maximum_key = \"\"\n",
    "maximum_value = 0\n",
    "\n",
    "with open(csvpath, 'r') as csvfile:  \n",
    "    csvreader = csv.reader(csvfile, delimiter=\",\")\n",
    "    header = next(csvreader) \n",
    "    for row in csvreader:     ## Loop for month and revenue totals\n",
    "        profit_loss = int(row[1])\n",
    "        market_cap = profit_loss\n",
    "        total_months += 1\n",
    "        total_revenue += profit_loss        \n",
    "             \n",
    "with open(csvpath, 'r') as csvfile:  \n",
    "    csvreader = csv.reader(csvfile, delimiter=\",\")\n",
    "    header = next(csvreader)\n",
    "    first_row = next(csvreader)       # step down for monthly revenue change comparison starts here \n",
    "    prev_month = int(first_row[1])\n",
    "    for row in csvreader:\n",
    "        monthly_profit = int(row[1])\n",
    "        revenue_change = monthly_profit - prev_month   \n",
    "        averages_count += revenue_change\n",
    "        market_cap = revenue_change\n",
    "        change_count += 1\n",
    "        prev_month = monthly_profit\n",
    "        percent_av = (averages_count/change_count)  \n",
    "        if minimum_value == 0:\n",
    "            minimum_value = market_cap     # Logic to find greatest increase/decreases and associated keys\n",
    "            minimum_key = row[0]           # date\n",
    "        elif market_cap < minimum_value:\n",
    "            minimum_value = market_cap\n",
    "            minimum_key = row[0]            \n",
    "        if market_cap > maximum_value:      \n",
    "            maximum_value = market_cap\n",
    "            maximum_key = row[0]             \n",
    "percent_av = round(percent_av,2)\n",
    "\n",
    "print(\"    \",\"Financial Analysis\")             # Result\n",
    "print(\"---------------------------------\")\n",
    "print(\"  \",\"  Total Months: \",(total_months)) # 86\n",
    "print(\"   \",\" Total:       $\",(total_revenue))  # 38382578\n",
    "print((\"Average  Change:  $\"),(percent_av))  # -2315.12 \n",
    "print((\"Greatest Increase in Profits:\"),(maximum_key), (\"$ \"),str(maximum_value))  # feb2012 1926159 \n",
    "print((\"Greatest Decrease in Profits:\"),(minimum_key),(\"$\"),str(minimum_value))  #sep 2013 -2196167\n",
    "\n",
    "text_file = open(\"pybank.txt\", \"w\")\n",
    "text_file.write(f\" Financial Analysis --------------Total Months:{total_months} Total: ${total_revenue} Average  Change:  ${percent_av} Greatest Increase in Profits: {maximum_key}  ${maximum_value}   Greatest Decrease in Profits: {minimum_key}   ${minimum_value}\")\n",
    "text_file.close()\n",
    "# \"C:\\Users\\garry\\Desktop\\python-challenge\\PyBank\\main.ipynb\" \n",
    "#r'C:\\Users\\garry\\Desktop\\Instructions\\PyBank\\Resources\\budget_data.csv\n",
    "#localhost:8888/lab/tree/Desktop/python-challenge/PyBank/main.ipynb \n"
   ]
  },
  {
   "cell_type": "code",
   "execution_count": null,
   "id": "5cff9051-935e-4b48-825c-bc436524a682",
   "metadata": {},
   "outputs": [],
   "source": [
    "\n",
    "\n",
    " "
   ]
  },
  {
   "cell_type": "code",
   "execution_count": null,
   "id": "173478d5-6198-4d3c-96f3-e27b18588a4b",
   "metadata": {},
   "outputs": [],
   "source": []
  }
 ],
 "metadata": {
  "kernelspec": {
   "display_name": "Python 3 (ipykernel)",
   "language": "python",
   "name": "python3"
  },
  "language_info": {
   "codemirror_mode": {
    "name": "ipython",
    "version": 3
   },
   "file_extension": ".py",
   "mimetype": "text/x-python",
   "name": "python",
   "nbconvert_exporter": "python",
   "pygments_lexer": "ipython3",
   "version": "3.7.13"
  }
 },
 "nbformat": 4,
 "nbformat_minor": 5
}
