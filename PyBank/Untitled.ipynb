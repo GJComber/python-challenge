{
 "cells": [
  {
   "cell_type": "code",
   "execution_count": 1,
   "id": "c3d05c67-d67e-4b12-89fd-5e7fbaad8aeb",
   "metadata": {},
   "outputs": [
    {
     "ename": "NameError",
     "evalue": "name 'row' is not defined",
     "output_type": "error",
     "traceback": [
      "\u001b[1;31m---------------------------------------------------------------------------\u001b[0m",
      "\u001b[1;31mNameError\u001b[0m                                 Traceback (most recent call last)",
      "\u001b[1;32m~\\AppData\\Local\\Temp\\ipykernel_28812\\89666946.py\u001b[0m in \u001b[0;36m<module>\u001b[1;34m\u001b[0m\n\u001b[0;32m     22\u001b[0m     \u001b[0mcsvreader\u001b[0m \u001b[1;33m=\u001b[0m \u001b[0mcsv\u001b[0m\u001b[1;33m.\u001b[0m\u001b[0mreader\u001b[0m\u001b[1;33m(\u001b[0m\u001b[0mcsvfile\u001b[0m\u001b[1;33m,\u001b[0m \u001b[0mdelimiter\u001b[0m\u001b[1;33m=\u001b[0m\u001b[1;34m\",\"\u001b[0m\u001b[1;33m)\u001b[0m\u001b[1;33m\u001b[0m\u001b[1;33m\u001b[0m\u001b[0m\n\u001b[0;32m     23\u001b[0m     \u001b[0mheader\u001b[0m \u001b[1;33m=\u001b[0m \u001b[0mnext\u001b[0m\u001b[1;33m(\u001b[0m\u001b[0mcsvreader\u001b[0m\u001b[1;33m)\u001b[0m\u001b[1;33m\u001b[0m\u001b[1;33m\u001b[0m\u001b[0m\n\u001b[1;32m---> 24\u001b[1;33m     \u001b[0mprofit_loss\u001b[0m \u001b[1;33m=\u001b[0m \u001b[0mint\u001b[0m\u001b[1;33m(\u001b[0m\u001b[0mrow\u001b[0m\u001b[1;33m[\u001b[0m\u001b[1;36m1\u001b[0m\u001b[1;33m]\u001b[0m\u001b[1;33m)\u001b[0m\u001b[1;33m\u001b[0m\u001b[1;33m\u001b[0m\u001b[0m\n\u001b[0m\u001b[0;32m     25\u001b[0m     \u001b[0mmarket_cap\u001b[0m \u001b[1;33m=\u001b[0m \u001b[0mprofit_loss\u001b[0m\u001b[1;33m\u001b[0m\u001b[1;33m\u001b[0m\u001b[0m\n\u001b[0;32m     26\u001b[0m     \u001b[0mfirst_row\u001b[0m \u001b[1;33m=\u001b[0m \u001b[0mnext\u001b[0m\u001b[1;33m(\u001b[0m\u001b[0mcsvreader\u001b[0m\u001b[1;33m)\u001b[0m       \u001b[1;31m#loop to step down for monthly revenue change comparison starts here\u001b[0m\u001b[1;33m\u001b[0m\u001b[1;33m\u001b[0m\u001b[0m\n",
      "\u001b[1;31mNameError\u001b[0m: name 'row' is not defined"
     ]
    }
   ],
   "source": [
    "from pathlib import Path\n",
    "import csv\n",
    "csvpath = Path(r'C:\\Users\\garry\\Desktop\\Instructions\\PyBank\\Resources\\budget_data.csv')\n",
    "total_months = 0   \n",
    "total_revenue = 0    \n",
    "revenue_change = 0  \n",
    "change_count = 0 \n",
    "averages_count = 0\n",
    "minimum_key = \"\"\n",
    "minimum_value = 0\n",
    "maximum_key = \"\"\n",
    "maximum_value = 0\n",
    "#with open(csvpath, 'r') as csvfile:  \n",
    " #   csvreader = csv.reader(csvfile, delimiter=\",\")\n",
    "  #  header = next(csvreader) \n",
    "   # for row in csvreader:     ## Loop for month and revenue totals\n",
    "       \n",
    "       \n",
    "               \n",
    "             \n",
    "with open(csvpath, 'r') as csvfile:  \n",
    "    csvreader = csv.reader(csvfile, delimiter=\",\")\n",
    "    header = next(csvreader)\n",
    "    profit_loss = int(row[1])\n",
    "    market_cap = profit_loss\n",
    "    first_row = next(csvreader)       #loop to step down for monthly revenue change comparison starts here \n",
    "    prev_month = int(first_row[1])\n",
    "    \n",
    "    for row in csvreader:\n",
    "        total_months += 1\n",
    "        total_revenue += profit_loss \n",
    "        monthly_profit = int(row[1])\n",
    "        revenue_change = monthly_profit - prev_month   \n",
    "        averages_count += revenue_change\n",
    "        market_cap = revenue_change\n",
    "        change_count += 1\n",
    "        prev_month = monthly_profit\n",
    "        percent_av = (averages_count/change_count)  \n",
    "        if minimum_value == 0:\n",
    "            minimum_value = market_cap     # Logic to find greatest increase/decreases and associated keys\n",
    "            minimum_key = row[0]           # date\n",
    "        elif market_cap < minimum_value:\n",
    "            minimum_value = market_cap\n",
    "            minimum_key = row[0]            \n",
    "        if market_cap > maximum_value:      \n",
    "            maximum_value = market_cap\n",
    "            maximum_key = row[0]             \n",
    "\n",
    "print(\"    \",\"Financial Analysis\")             # Result\n",
    "print(\"---------------------------------\")\n",
    "print(\"  \",\"  Total Months: \",(total_months)) # 86\n",
    "print(\"   \",\" Total:       $\",(total_revenue))  # 38382578\n",
    "print((\"Average  Change:  $\"),(round(percent_av,2)))  # -2315.12 \n",
    "print((\"Greatest Increase in Profits:\"),(maximum_key), (\"$ \"),str(maximum_value))  # feb2012 1926159 \n",
    "print((\"Greatest Decrease in Profits:\"),(minimum_key),(\"$\"),str(minimum_value))  #sep 2013 -2196167\n",
    "\n",
    "    \n"
   ]
  },
  {
   "cell_type": "code",
   "execution_count": null,
   "id": "6fbd6f2c-f7eb-4b4f-9c17-4a1bb0377889",
   "metadata": {},
   "outputs": [],
   "source": []
  }
 ],
 "metadata": {
  "kernelspec": {
   "display_name": "Python 3 (ipykernel)",
   "language": "python",
   "name": "python3"
  },
  "language_info": {
   "codemirror_mode": {
    "name": "ipython",
    "version": 3
   },
   "file_extension": ".py",
   "mimetype": "text/x-python",
   "name": "python",
   "nbconvert_exporter": "python",
   "pygments_lexer": "ipython3",
   "version": "3.7.13"
  }
 },
 "nbformat": 4,
 "nbformat_minor": 5
}
